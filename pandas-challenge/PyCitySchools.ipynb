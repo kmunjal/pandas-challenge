{
 "cells": [
  {
   "cell_type": "code",
   "execution_count": 2,
   "metadata": {},
   "outputs": [
    {
     "data": {
      "text/html": [
       "<div>\n",
       "<style scoped>\n",
       "    .dataframe tbody tr th:only-of-type {\n",
       "        vertical-align: middle;\n",
       "    }\n",
       "\n",
       "    .dataframe tbody tr th {\n",
       "        vertical-align: top;\n",
       "    }\n",
       "\n",
       "    .dataframe thead th {\n",
       "        text-align: right;\n",
       "    }\n",
       "</style>\n",
       "<table border=\"1\" class=\"dataframe\">\n",
       "  <thead>\n",
       "    <tr style=\"text-align: right;\">\n",
       "      <th></th>\n",
       "      <th>Student ID</th>\n",
       "      <th>student_name</th>\n",
       "      <th>gender</th>\n",
       "      <th>grade</th>\n",
       "      <th>school_name</th>\n",
       "      <th>reading_score</th>\n",
       "      <th>math_score</th>\n",
       "      <th>School ID</th>\n",
       "      <th>type</th>\n",
       "      <th>size</th>\n",
       "      <th>budget</th>\n",
       "    </tr>\n",
       "  </thead>\n",
       "  <tbody>\n",
       "    <tr>\n",
       "      <th>0</th>\n",
       "      <td>0</td>\n",
       "      <td>Paul Bradley</td>\n",
       "      <td>M</td>\n",
       "      <td>9th</td>\n",
       "      <td>Huang High School</td>\n",
       "      <td>66</td>\n",
       "      <td>79</td>\n",
       "      <td>0</td>\n",
       "      <td>District</td>\n",
       "      <td>2917</td>\n",
       "      <td>1910635</td>\n",
       "    </tr>\n",
       "    <tr>\n",
       "      <th>1</th>\n",
       "      <td>1</td>\n",
       "      <td>Victor Smith</td>\n",
       "      <td>M</td>\n",
       "      <td>12th</td>\n",
       "      <td>Huang High School</td>\n",
       "      <td>94</td>\n",
       "      <td>61</td>\n",
       "      <td>0</td>\n",
       "      <td>District</td>\n",
       "      <td>2917</td>\n",
       "      <td>1910635</td>\n",
       "    </tr>\n",
       "    <tr>\n",
       "      <th>2</th>\n",
       "      <td>2</td>\n",
       "      <td>Kevin Rodriguez</td>\n",
       "      <td>M</td>\n",
       "      <td>12th</td>\n",
       "      <td>Huang High School</td>\n",
       "      <td>90</td>\n",
       "      <td>60</td>\n",
       "      <td>0</td>\n",
       "      <td>District</td>\n",
       "      <td>2917</td>\n",
       "      <td>1910635</td>\n",
       "    </tr>\n",
       "    <tr>\n",
       "      <th>3</th>\n",
       "      <td>3</td>\n",
       "      <td>Dr. Richard Scott</td>\n",
       "      <td>M</td>\n",
       "      <td>12th</td>\n",
       "      <td>Huang High School</td>\n",
       "      <td>67</td>\n",
       "      <td>58</td>\n",
       "      <td>0</td>\n",
       "      <td>District</td>\n",
       "      <td>2917</td>\n",
       "      <td>1910635</td>\n",
       "    </tr>\n",
       "    <tr>\n",
       "      <th>4</th>\n",
       "      <td>4</td>\n",
       "      <td>Bonnie Ray</td>\n",
       "      <td>F</td>\n",
       "      <td>9th</td>\n",
       "      <td>Huang High School</td>\n",
       "      <td>97</td>\n",
       "      <td>84</td>\n",
       "      <td>0</td>\n",
       "      <td>District</td>\n",
       "      <td>2917</td>\n",
       "      <td>1910635</td>\n",
       "    </tr>\n",
       "  </tbody>\n",
       "</table>\n",
       "</div>"
      ],
      "text/plain": [
       "   Student ID       student_name gender grade        school_name  \\\n",
       "0           0       Paul Bradley      M   9th  Huang High School   \n",
       "1           1       Victor Smith      M  12th  Huang High School   \n",
       "2           2    Kevin Rodriguez      M  12th  Huang High School   \n",
       "3           3  Dr. Richard Scott      M  12th  Huang High School   \n",
       "4           4         Bonnie Ray      F   9th  Huang High School   \n",
       "\n",
       "   reading_score  math_score  School ID      type  size   budget  \n",
       "0             66          79          0  District  2917  1910635  \n",
       "1             94          61          0  District  2917  1910635  \n",
       "2             90          60          0  District  2917  1910635  \n",
       "3             67          58          0  District  2917  1910635  \n",
       "4             97          84          0  District  2917  1910635  "
      ]
     },
     "execution_count": 2,
     "metadata": {},
     "output_type": "execute_result"
    }
   ],
   "source": [
    "# Dependencies and Setup\n",
    "import pandas as pd\n",
    "import numpy as np\n",
    "\n",
    "# File to Load \n",
    "school_data_to_load = (\"schools_complete.csv\")\n",
    "student_data_to_load = (\"students_complete.csv\")\n",
    "\n",
    "# Read School and Student Data File and store into Pandas Data Frames\n",
    "school_data = pd.read_csv(school_data_to_load)\n",
    "student_data = pd.read_csv(student_data_to_load)\n",
    "\n",
    "# Combine the data into a single dataset\n",
    "school_data_complete = pd.merge(student_data, school_data, how=\"left\", on=[\"school_name\", \"school_name\"])\n",
    "school_data_complete.head()"
   ]
  },
  {
   "cell_type": "code",
   "execution_count": 3,
   "metadata": {},
   "outputs": [
    {
     "data": {
      "text/html": [
       "<style  type=\"text/css\" >\n",
       "</style><table id=\"T_1d62bdd0_d509_11e9_8654_a45e60ebe803\" ><thead>    <tr>        <th class=\"blank level0\" ></th>        <th class=\"col_heading level0 col0\" >Total Schools</th>        <th class=\"col_heading level0 col1\" >Total Students</th>        <th class=\"col_heading level0 col2\" >Total Budget</th>        <th class=\"col_heading level0 col3\" >Average Math Score</th>        <th class=\"col_heading level0 col4\" >Average Reading Score</th>        <th class=\"col_heading level0 col5\" >% Passing Math</th>        <th class=\"col_heading level0 col6\" >% Passing Reading</th>        <th class=\"col_heading level0 col7\" >% Overall Passing</th>    </tr></thead><tbody>\n",
       "                <tr>\n",
       "                        <th id=\"T_1d62bdd0_d509_11e9_8654_a45e60ebe803level0_row0\" class=\"row_heading level0 row0\" >0</th>\n",
       "                        <td id=\"T_1d62bdd0_d509_11e9_8654_a45e60ebe803row0_col0\" class=\"data row0 col0\" >15</td>\n",
       "                        <td id=\"T_1d62bdd0_d509_11e9_8654_a45e60ebe803row0_col1\" class=\"data row0 col1\" >39170</td>\n",
       "                        <td id=\"T_1d62bdd0_d509_11e9_8654_a45e60ebe803row0_col2\" class=\"data row0 col2\" >$24,649,428.00</td>\n",
       "                        <td id=\"T_1d62bdd0_d509_11e9_8654_a45e60ebe803row0_col3\" class=\"data row0 col3\" >78.99</td>\n",
       "                        <td id=\"T_1d62bdd0_d509_11e9_8654_a45e60ebe803row0_col4\" class=\"data row0 col4\" >81.88</td>\n",
       "                        <td id=\"T_1d62bdd0_d509_11e9_8654_a45e60ebe803row0_col5\" class=\"data row0 col5\" >74.98</td>\n",
       "                        <td id=\"T_1d62bdd0_d509_11e9_8654_a45e60ebe803row0_col6\" class=\"data row0 col6\" >85.81</td>\n",
       "                        <td id=\"T_1d62bdd0_d509_11e9_8654_a45e60ebe803row0_col7\" class=\"data row0 col7\" >80.43</td>\n",
       "            </tr>\n",
       "    </tbody></table>"
      ],
      "text/plain": [
       "<pandas.io.formats.style.Styler at 0x11a515c50>"
      ]
     },
     "execution_count": 3,
     "metadata": {},
     "output_type": "execute_result"
    }
   ],
   "source": [
    "#Calculate the total number of schools\n",
    "unique_total_schools = school_data_complete[\"school_name\"].value_counts()\n",
    "total_schools = unique_total_schools.count()\n",
    "#print(total_schools)\n",
    "\n",
    "#Calculate the total number of students\n",
    "total_students = school_data_complete[\"student_name\"].count()\n",
    "#print(total_students)\n",
    "\n",
    "#Calculate the total budget\n",
    "unique_total_budget = school_data_complete[\"budget\"].unique()\n",
    "total_budget = unique_total_budget.sum()\n",
    "#print(total_budget)\n",
    "\n",
    "#Calculate the average math score\n",
    "math_score = school_data_complete[\"math_score\"].mean()\n",
    "#print(math_score)\n",
    "\n",
    "#Calculate the average reading score\n",
    "reading_score = school_data_complete[\"reading_score\"].mean()\n",
    "#print(reading_score)\n",
    "\n",
    "#Calculate the overall passing rate (overall average score), i.e. (avg. math score + avg. reading score)/2\n",
    "overall_passing_rate = (math_score + reading_score) /2\n",
    "#print(overall_passing_rate)\n",
    "\n",
    "#Calculate the percentage of students with a passing math score (70 or greater)\n",
    "passing_math = (school_data_complete[\"math_score\"] >= 70).sum()\n",
    "#print(passing_math)\n",
    "percentage_passed_math = round((passing_math/ total_students)*100,2)\n",
    "#print(percentage_passed_math)\n",
    "\n",
    "#Calculate the percentage of students with a passing reading score (70 or greater)\n",
    "passing_reading = (school_data_complete[\"reading_score\"] >= 70).sum()\n",
    "#print(passing_reading)\n",
    "percentage_passed_reading = round((passing_reading/ total_students)*100,2)\n",
    "#print(percentage_passed_reading)\n",
    "\n",
    "#Create a dataframe to hold the above results\n",
    "district_summary = {\"Total Schools\" : total_schools,\n",
    "                   \"Total Students\" : total_students,\n",
    "                   \"Total Budget\" : total_budget,\n",
    "                   \"Average Math Score\" : math_score,\n",
    "                   \"Average Reading Score\" : reading_score,\n",
    "                    \"% Passing Math\" : percentage_passed_math,\n",
    "                   \"% Passing Reading\" : percentage_passed_reading,\n",
    "                   \"% Overall Passing\" : overall_passing_rate\n",
    "                  }\n",
    "district_summary_df = pd.DataFrame([district_summary])\n",
    "district_summary_df = district_summary_df[[\"Total Schools\",\n",
    "                   \"Total Students\",\"Total Budget\",\"Average Math Score\", \"Average Reading Score\",\n",
    "                   \"% Passing Math\", \"% Passing Reading\", \"% Overall Passing\" ]]\n",
    "district_summary_df.style.format({\"Total Budget\": \"${:,.2f}\", \n",
    "                                   \"Average Reading Score\": \"{:.2f}\", \n",
    "                                   \"Average Math Score\": \"{:.2f}\", \n",
    "                                   \"% Passing Math\": \"{:.2f}\", \n",
    "                                   \"% Passing Reading\": \"{:.2f}\", \n",
    "                                   \"% Overall Passing\": \"{:.2f}\"})"
   ]
  },
  {
   "cell_type": "code",
   "execution_count": 4,
   "metadata": {},
   "outputs": [
    {
     "data": {
      "text/plain": [
       "school_name\n",
       "Huang High School        District\n",
       "Figueroa High School     District\n",
       "Shelton High School       Charter\n",
       "Hernandez High School    District\n",
       "Griffin High School       Charter\n",
       "Wilson High School        Charter\n",
       "Cabrera High School       Charter\n",
       "Bailey High School       District\n",
       "Holden High School        Charter\n",
       "Pena High School          Charter\n",
       "Wright High School        Charter\n",
       "Rodriguez High School    District\n",
       "Johnson High School      District\n",
       "Ford High School         District\n",
       "Thomas High School        Charter\n",
       "Name: type, dtype: object"
      ]
     },
     "execution_count": 4,
     "metadata": {},
     "output_type": "execute_result"
    }
   ],
   "source": [
    "#School Type\n",
    "school_type = school_data.set_index([\"school_name\"])[\"type\"]\n",
    "school_type"
   ]
  },
  {
   "cell_type": "code",
   "execution_count": 5,
   "metadata": {},
   "outputs": [
    {
     "data": {
      "text/plain": [
       "Bailey High School       4976\n",
       "Johnson High School      4761\n",
       "Hernandez High School    4635\n",
       "Rodriguez High School    3999\n",
       "Figueroa High School     2949\n",
       "Huang High School        2917\n",
       "Ford High School         2739\n",
       "Wilson High School       2283\n",
       "Cabrera High School      1858\n",
       "Wright High School       1800\n",
       "Shelton High School      1761\n",
       "Thomas High School       1635\n",
       "Griffin High School      1468\n",
       "Pena High School          962\n",
       "Holden High School        427\n",
       "Name: school_name, dtype: int64"
      ]
     },
     "execution_count": 5,
     "metadata": {},
     "output_type": "execute_result"
    }
   ],
   "source": [
    "#Total students per school\n",
    "total_students_per_school = school_data_complete[\"school_name\"].value_counts()\n",
    "total_students_per_school"
   ]
  },
  {
   "cell_type": "code",
   "execution_count": 6,
   "metadata": {},
   "outputs": [
    {
     "data": {
      "text/plain": [
       "school_name\n",
       "Bailey High School       3124928.0\n",
       "Cabrera High School      1081356.0\n",
       "Figueroa High School     1884411.0\n",
       "Ford High School         1763916.0\n",
       "Griffin High School       917500.0\n",
       "Hernandez High School    3022020.0\n",
       "Holden High School        248087.0\n",
       "Huang High School        1910635.0\n",
       "Johnson High School      3094650.0\n",
       "Pena High School          585858.0\n",
       "Rodriguez High School    2547363.0\n",
       "Shelton High School      1056600.0\n",
       "Thomas High School       1043130.0\n",
       "Wilson High School       1319574.0\n",
       "Wright High School       1049400.0\n",
       "Name: budget, dtype: float64"
      ]
     },
     "execution_count": 6,
     "metadata": {},
     "output_type": "execute_result"
    }
   ],
   "source": [
    "#Total school budget\n",
    "budget_per_school = school_data_complete.groupby([\"school_name\"]).mean()[\"budget\"]\n",
    "budget_per_school"
   ]
  },
  {
   "cell_type": "code",
   "execution_count": 7,
   "metadata": {},
   "outputs": [
    {
     "data": {
      "text/plain": [
       "Bailey High School       628.0\n",
       "Cabrera High School      582.0\n",
       "Figueroa High School     639.0\n",
       "Ford High School         644.0\n",
       "Griffin High School      625.0\n",
       "Hernandez High School    652.0\n",
       "Holden High School       581.0\n",
       "Huang High School        655.0\n",
       "Johnson High School      650.0\n",
       "Pena High School         609.0\n",
       "Rodriguez High School    637.0\n",
       "Shelton High School      600.0\n",
       "Thomas High School       638.0\n",
       "Wilson High School       578.0\n",
       "Wright High School       583.0\n",
       "dtype: float64"
      ]
     },
     "execution_count": 7,
     "metadata": {},
     "output_type": "execute_result"
    }
   ],
   "source": [
    "#Budget per student \n",
    "budget_per_student = budget_per_school/total_students_per_school\n",
    "budget_per_student"
   ]
  },
  {
   "cell_type": "code",
   "execution_count": 8,
   "metadata": {},
   "outputs": [
    {
     "data": {
      "text/plain": [
       "school_name\n",
       "Bailey High School       77.048432\n",
       "Cabrera High School      83.061895\n",
       "Figueroa High School     76.711767\n",
       "Ford High School         77.102592\n",
       "Griffin High School      83.351499\n",
       "Hernandez High School    77.289752\n",
       "Holden High School       83.803279\n",
       "Huang High School        76.629414\n",
       "Johnson High School      77.072464\n",
       "Pena High School         83.839917\n",
       "Rodriguez High School    76.842711\n",
       "Shelton High School      83.359455\n",
       "Thomas High School       83.418349\n",
       "Wilson High School       83.274201\n",
       "Wright High School       83.682222\n",
       "Name: math_score, dtype: float64"
      ]
     },
     "execution_count": 8,
     "metadata": {},
     "output_type": "execute_result"
    }
   ],
   "source": [
    "#Average Math Score\n",
    "avg_math_scores = school_data_complete.groupby([\"school_name\"]).mean()[\"math_score\"]\n",
    "avg_math_scores"
   ]
  },
  {
   "cell_type": "code",
   "execution_count": 9,
   "metadata": {},
   "outputs": [
    {
     "data": {
      "text/plain": [
       "school_name\n",
       "Bailey High School       81.033963\n",
       "Cabrera High School      83.975780\n",
       "Figueroa High School     81.158020\n",
       "Ford High School         80.746258\n",
       "Griffin High School      83.816757\n",
       "Hernandez High School    80.934412\n",
       "Holden High School       83.814988\n",
       "Huang High School        81.182722\n",
       "Johnson High School      80.966394\n",
       "Pena High School         84.044699\n",
       "Rodriguez High School    80.744686\n",
       "Shelton High School      83.725724\n",
       "Thomas High School       83.848930\n",
       "Wilson High School       83.989488\n",
       "Wright High School       83.955000\n",
       "Name: reading_score, dtype: float64"
      ]
     },
     "execution_count": 9,
     "metadata": {},
     "output_type": "execute_result"
    }
   ],
   "source": [
    "#Average Reading Score\n",
    "avg_reading_scores = school_data_complete.groupby([\"school_name\"]).mean()[\"reading_score\"]\n",
    "avg_reading_scores"
   ]
  },
  {
   "cell_type": "code",
   "execution_count": 12,
   "metadata": {},
   "outputs": [
    {
     "data": {
      "text/plain": [
       "Bailey High School       64.63\n",
       "Cabrera High School      89.56\n",
       "Figueroa High School     63.75\n",
       "Ford High School         65.75\n",
       "Griffin High School      89.71\n",
       "Hernandez High School    64.75\n",
       "Holden High School       90.63\n",
       "Huang High School        63.32\n",
       "Johnson High School      63.85\n",
       "Pena High School         91.68\n",
       "Rodriguez High School    64.07\n",
       "Shelton High School      89.89\n",
       "Thomas High School       90.21\n",
       "Wilson High School       90.93\n",
       "Wright High School       90.28\n",
       "dtype: float64"
      ]
     },
     "execution_count": 12,
     "metadata": {},
     "output_type": "execute_result"
    }
   ],
   "source": [
    "# % Passing Math by school\n",
    "passed_math = school_data_complete[(school_data_complete[\"math_score\"]>70)]\n",
    "passed_math_per_school = passed_math.groupby([\"school_name\"]).count()[\"student_name\"]\n",
    "percentage_math_passed = round((passed_math_per_school/total_students_per_school)*100,2)\n",
    "percentage_math_passed"
   ]
  },
  {
   "cell_type": "code",
   "execution_count": null,
   "metadata": {},
   "outputs": [],
   "source": [
    "# % Passing Reading by school\n",
    "passed_math = school_data_complete[(school_data_complete[\"math_score\"]>70)]\n",
    "passed_math_per_school = passed_math.groupby([\"school_name\"]).count()[\"student_name\"]\n",
    "percentage_math_passed = round((passed_math_per_school/total_students_per_school)*100,2)\n",
    "percentage_math_passed"
   ]
  }
 ],
 "metadata": {
  "kernelspec": {
   "display_name": "Python 3",
   "language": "python",
   "name": "python3"
  },
  "language_info": {
   "codemirror_mode": {
    "name": "ipython",
    "version": 3
   },
   "file_extension": ".py",
   "mimetype": "text/x-python",
   "name": "python",
   "nbconvert_exporter": "python",
   "pygments_lexer": "ipython3",
   "version": "3.7.3"
  }
 },
 "nbformat": 4,
 "nbformat_minor": 2
}
